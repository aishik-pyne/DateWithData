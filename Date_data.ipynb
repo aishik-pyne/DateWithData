{
 "cells": [
  {
   "cell_type": "markdown",
   "metadata": {},
   "source": [
    "# Date with Data"
   ]
  },
  {
   "cell_type": "markdown",
   "metadata": {},
   "source": [
    "## Problem statement\n",
    "\n",
    "You wish to go on a date on valentines day and impress your partner by taking her to a good restaurant.  \n",
    "Can you use data science to automate the process of finding a date and also come up with a suggestion for the best matched restaurant?\n",
    "\n",
    "\n",
    "## Well of course you can!"
   ]
  },
  {
   "cell_type": "markdown",
   "metadata": {},
   "source": [
    "## The Data - Let's analyze the data at hand\n",
    "\n",
    "## Restaurant Data\n",
    "\n",
    "![Zomato](Slide3.PNG)\n",
    "\n",
    "## The Data we could scrap \n",
    "- **Area of the restaurant** \n",
    "- **Cost for two**\n",
    "- **Cuisine**\n",
    "- **Latitude and Longitude**\n",
    "- **Name**\n",
    "- **Rating**\n",
    "- **Votes**\n",
    "\n",
    "---\n",
    "\n",
    "## People Data\n",
    "\n",
    "![Humans](Slide5.PNG)"
   ]
  },
  {
   "cell_type": "markdown",
   "metadata": {},
   "source": [
    "# Let's make a model to do something with the data\n",
    "\n",
    "## Importing some python modules"
   ]
  },
  {
   "cell_type": "code",
   "execution_count": 21,
   "metadata": {},
   "outputs": [],
   "source": [
    "import math\n",
    "import numpy as np\n",
    "import pandas as pd\n",
    "import seaborn as sb\n",
    "import matplotlib.pyplot as plt\n",
    "import sklearn\n",
    "import os\n",
    "import pprint\n",
    "from pandas import Series, DataFrame\n",
    "from pylab import rcParams\n",
    "from sklearn import preprocessing\n",
    "from sklearn.linear_model import LogisticRegression\n",
    "from sklearn.cross_validation import train_test_split\n",
    "from sklearn import metrics \n",
    "from sklearn.metrics import classification_report"
   ]
  },
  {
   "cell_type": "markdown",
   "metadata": {},
   "source": [
    "## Loading the Data"
   ]
  },
  {
   "cell_type": "code",
   "execution_count": 39,
   "metadata": {},
   "outputs": [
    {
     "data": {
      "text/html": [
       "<div>\n",
       "<style>\n",
       "    .dataframe thead tr:only-child th {\n",
       "        text-align: right;\n",
       "    }\n",
       "\n",
       "    .dataframe thead th {\n",
       "        text-align: left;\n",
       "    }\n",
       "\n",
       "    .dataframe tbody tr th {\n",
       "        vertical-align: top;\n",
       "    }\n",
       "</style>\n",
       "<table border=\"1\" class=\"dataframe\">\n",
       "  <thead>\n",
       "    <tr style=\"text-align: right;\">\n",
       "      <th></th>\n",
       "      <th>area</th>\n",
       "      <th>cost</th>\n",
       "      <th>cuisine</th>\n",
       "      <th>latitude</th>\n",
       "      <th>longitude</th>\n",
       "      <th>name</th>\n",
       "      <th>preference</th>\n",
       "      <th>ratings</th>\n",
       "      <th>type</th>\n",
       "      <th>votes</th>\n",
       "    </tr>\n",
       "  </thead>\n",
       "  <tbody>\n",
       "    <tr>\n",
       "      <th>0</th>\n",
       "      <td>Garia</td>\n",
       "      <td>700</td>\n",
       "      <td>['Biryani' 'North Indian']</td>\n",
       "      <td>22.502441</td>\n",
       "      <td>88.357122</td>\n",
       "      <td>The Biryani Company</td>\n",
       "      <td>0</td>\n",
       "      <td>3.5</td>\n",
       "      <td>[\"['Casual Dining']\"]</td>\n",
       "      <td>63</td>\n",
       "    </tr>\n",
       "    <tr>\n",
       "      <th>1</th>\n",
       "      <td>Golpark</td>\n",
       "      <td>250</td>\n",
       "      <td>['Juices' 'South Indian' 'Street Food']</td>\n",
       "      <td>22.562931</td>\n",
       "      <td>88.351263</td>\n",
       "      <td>Ralli's</td>\n",
       "      <td>1</td>\n",
       "      <td>3.4</td>\n",
       "      <td>[\"['Casual Dining']\"]</td>\n",
       "      <td>144</td>\n",
       "    </tr>\n",
       "    <tr>\n",
       "      <th>2</th>\n",
       "      <td>Hatibagan</td>\n",
       "      <td>650</td>\n",
       "      <td>['Chinese' 'North Indian']</td>\n",
       "      <td>22.586452</td>\n",
       "      <td>88.367751</td>\n",
       "      <td>North Point</td>\n",
       "      <td>0</td>\n",
       "      <td>3.5</td>\n",
       "      <td>[\"['Quick Bites']\"]</td>\n",
       "      <td>79</td>\n",
       "    </tr>\n",
       "    <tr>\n",
       "      <th>3</th>\n",
       "      <td>Ballygunge</td>\n",
       "      <td>1200</td>\n",
       "      <td>['Asian' 'Continental' 'Middle Eastern']</td>\n",
       "      <td>22.526294</td>\n",
       "      <td>88.364614</td>\n",
       "      <td>Spice Kraft</td>\n",
       "      <td>1</td>\n",
       "      <td>3.4</td>\n",
       "      <td>[\"['Casual Dining']\"]</td>\n",
       "      <td>2231</td>\n",
       "    </tr>\n",
       "    <tr>\n",
       "      <th>4</th>\n",
       "      <td>Garia</td>\n",
       "      <td>600</td>\n",
       "      <td>['Fast Food']</td>\n",
       "      <td>22.470767</td>\n",
       "      <td>88.388901</td>\n",
       "      <td>Hunk Hurry</td>\n",
       "      <td>0</td>\n",
       "      <td>2.5</td>\n",
       "      <td>[\"['Quick Bites']\"]</td>\n",
       "      <td>39</td>\n",
       "    </tr>\n",
       "    <tr>\n",
       "      <th>5</th>\n",
       "      <td>Park Street Area</td>\n",
       "      <td>900</td>\n",
       "      <td>['Chinese' 'Continental' 'North Indian']</td>\n",
       "      <td>22.552581</td>\n",
       "      <td>88.351074</td>\n",
       "      <td>Om Ganpati Restaurant</td>\n",
       "      <td>0</td>\n",
       "      <td>3.4</td>\n",
       "      <td>[\"['Casual Dining']\"]</td>\n",
       "      <td>183</td>\n",
       "    </tr>\n",
       "    <tr>\n",
       "      <th>6</th>\n",
       "      <td>Garia</td>\n",
       "      <td>500</td>\n",
       "      <td>['Chinese' 'North Indian']</td>\n",
       "      <td>22.472137</td>\n",
       "      <td>88.389439</td>\n",
       "      <td>Machhranga</td>\n",
       "      <td>0</td>\n",
       "      <td>3.5</td>\n",
       "      <td>[\"['Casual Dining']\"]</td>\n",
       "      <td>61</td>\n",
       "    </tr>\n",
       "    <tr>\n",
       "      <th>7</th>\n",
       "      <td>Jadavpur</td>\n",
       "      <td>200</td>\n",
       "      <td>['Chinese' 'North Indian' 'Rolls']</td>\n",
       "      <td>22.497826</td>\n",
       "      <td>88.374692</td>\n",
       "      <td>Zaika</td>\n",
       "      <td>0</td>\n",
       "      <td>3.4</td>\n",
       "      <td>[\"['Quick Bites']\"]</td>\n",
       "      <td>141</td>\n",
       "    </tr>\n",
       "    <tr>\n",
       "      <th>8</th>\n",
       "      <td>Beliaghata</td>\n",
       "      <td>800</td>\n",
       "      <td>['Bengali' 'Chinese' 'North Indian']</td>\n",
       "      <td>22.564053</td>\n",
       "      <td>88.395759</td>\n",
       "      <td>Drumstick</td>\n",
       "      <td>0</td>\n",
       "      <td>3.4</td>\n",
       "      <td>[\"['Casual Dining']\"]</td>\n",
       "      <td>259</td>\n",
       "    </tr>\n",
       "    <tr>\n",
       "      <th>9</th>\n",
       "      <td>Nagerbazar</td>\n",
       "      <td>400</td>\n",
       "      <td>['Chinese' 'North Indian']</td>\n",
       "      <td>22.623331</td>\n",
       "      <td>88.414703</td>\n",
       "      <td>Barsha</td>\n",
       "      <td>0</td>\n",
       "      <td>3.5</td>\n",
       "      <td>[\"['Casual Dining']\"]</td>\n",
       "      <td>112</td>\n",
       "    </tr>\n",
       "  </tbody>\n",
       "</table>\n",
       "</div>"
      ],
      "text/plain": [
       "               area  cost                                   cuisine  \\\n",
       "0             Garia   700                ['Biryani' 'North Indian']   \n",
       "1           Golpark   250   ['Juices' 'South Indian' 'Street Food']   \n",
       "2         Hatibagan   650                ['Chinese' 'North Indian']   \n",
       "3        Ballygunge  1200  ['Asian' 'Continental' 'Middle Eastern']   \n",
       "4             Garia   600                             ['Fast Food']   \n",
       "5  Park Street Area   900  ['Chinese' 'Continental' 'North Indian']   \n",
       "6             Garia   500                ['Chinese' 'North Indian']   \n",
       "7          Jadavpur   200        ['Chinese' 'North Indian' 'Rolls']   \n",
       "8        Beliaghata   800      ['Bengali' 'Chinese' 'North Indian']   \n",
       "9        Nagerbazar   400                ['Chinese' 'North Indian']   \n",
       "\n",
       "    latitude  longitude                   name  preference  ratings  \\\n",
       "0  22.502441  88.357122    The Biryani Company           0      3.5   \n",
       "1  22.562931  88.351263                Ralli's           1      3.4   \n",
       "2  22.586452  88.367751            North Point           0      3.5   \n",
       "3  22.526294  88.364614            Spice Kraft           1      3.4   \n",
       "4  22.470767  88.388901             Hunk Hurry           0      2.5   \n",
       "5  22.552581  88.351074  Om Ganpati Restaurant           0      3.4   \n",
       "6  22.472137  88.389439             Machhranga           0      3.5   \n",
       "7  22.497826  88.374692                  Zaika           0      3.4   \n",
       "8  22.564053  88.395759              Drumstick           0      3.4   \n",
       "9  22.623331  88.414703                 Barsha           0      3.5   \n",
       "\n",
       "                    type  votes  \n",
       "0  [\"['Casual Dining']\"]     63  \n",
       "1  [\"['Casual Dining']\"]    144  \n",
       "2    [\"['Quick Bites']\"]     79  \n",
       "3  [\"['Casual Dining']\"]   2231  \n",
       "4    [\"['Quick Bites']\"]     39  \n",
       "5  [\"['Casual Dining']\"]    183  \n",
       "6  [\"['Casual Dining']\"]     61  \n",
       "7    [\"['Quick Bites']\"]    141  \n",
       "8  [\"['Casual Dining']\"]    259  \n",
       "9  [\"['Casual Dining']\"]    112  "
      ]
     },
     "execution_count": 39,
     "metadata": {},
     "output_type": "execute_result"
    }
   ],
   "source": [
    "labelled_data = pd.read_excel(\"Restaurant_final.xlsx\")[0:700]\n",
    "labelled_data.head(10)"
   ]
  },
  {
   "cell_type": "markdown",
   "metadata": {},
   "source": [
    "## Projecting the data"
   ]
  },
  {
   "cell_type": "code",
   "execution_count": 23,
   "metadata": {},
   "outputs": [
    {
     "name": "stdout",
     "output_type": "stream",
     "text": [
      "   cost   latitude  longitude  ratings  votes\n",
      "0   700  22.502441  88.357122      3.5     63\n",
      "1   250  22.562931  88.351263      3.4    144\n",
      "2   650  22.586452  88.367751      3.5     79\n",
      "3  1200  22.526294  88.364614      3.4   2231\n",
      "4   600  22.470767  88.388901      2.5     39\n",
      "   preference\n",
      "0           0\n",
      "1           1\n",
      "2           0\n",
      "3           1\n",
      "4           0\n"
     ]
    }
   ],
   "source": [
    "X = labelled_data[['cost', 'latitude', 'longitude', 'ratings', 'votes']]\n",
    "y = labelled_data[['preference']]\n",
    "print(X.head(5))\n",
    "print(y.head(5))"
   ]
  },
  {
   "cell_type": "markdown",
   "metadata": {},
   "source": [
    "## Splitting the data\n",
    "![TrainTest](traintestsplit.png)"
   ]
  },
  {
   "cell_type": "code",
   "execution_count": 24,
   "metadata": {},
   "outputs": [
    {
     "name": "stdout",
     "output_type": "stream",
     "text": [
      "X_train.shape: (490, 5)\n",
      "y_train.shape: (490,)\n",
      "X_test.shape: (210, 5)\n",
      "y_test.shape: (210,)\n"
     ]
    }
   ],
   "source": [
    "X_train, X_test, y_train, y_test = train_test_split(X, y, test_size = .3, random_state=25)\n",
    "y_train, y_test = np.squeeze(y_train), np.squeeze(y_test)\n",
    "print('X_train.shape: {}'.format(X_train.shape))\n",
    "print('y_train.shape: {}'.format(y_train.shape))\n",
    "print('X_test.shape: {}'.format(X_test.shape))\n",
    "print('y_test.shape: {}'.format(y_test.shape))"
   ]
  },
  {
   "cell_type": "markdown",
   "metadata": {},
   "source": [
    "# Training the Model\n",
    "![sk-learn](sklearn-cheatsheet.png)"
   ]
  },
  {
   "cell_type": "markdown",
   "metadata": {},
   "source": [
    "## Setting up a LogisticRegression"
   ]
  },
  {
   "cell_type": "code",
   "execution_count": 25,
   "metadata": {
    "collapsed": true
   },
   "outputs": [],
   "source": [
    "LogReg=LogisticRegression()\n",
    "LogReg.fit(X_train, y_train)\n",
    "\n",
    "y_pred = LogReg.predict(X_test)"
   ]
  },
  {
   "cell_type": "markdown",
   "metadata": {},
   "source": [
    "## Analyzing the accuracy using a Confusion Matrix\n",
    "\n",
    "![Confusion Matrix](confusionmatrix.png)"
   ]
  },
  {
   "cell_type": "code",
   "execution_count": 26,
   "metadata": {},
   "outputs": [
    {
     "data": {
      "text/plain": [
       "array([[105,  15],\n",
       "       [ 65,  25]])"
      ]
     },
     "execution_count": 26,
     "metadata": {},
     "output_type": "execute_result"
    }
   ],
   "source": [
    "from sklearn.metrics import confusion_matrix\n",
    "confusion_matrix = confusion_matrix(y_test, y_pred)\n",
    "confusion_matrix"
   ]
  },
  {
   "cell_type": "code",
   "execution_count": 31,
   "metadata": {},
   "outputs": [
    {
     "name": "stdout",
     "output_type": "stream",
     "text": [
      "Correct pred 130 \n",
      "Total Samples 210 \n",
      "Accuracy 61.904761904761905%\n"
     ]
    }
   ],
   "source": [
    "total_samples = np.sum(confusion_matrix)\n",
    "corect_predictions = np.sum(confusion_matrix*np.eye(2, dtype=np.int))\n",
    "print('Correct pred {} \\nTotal Samples {} \\nAccuracy {}%'.format(corect_predictions, total_samples, corect_predictions/total_samples*100.0))"
   ]
  },
  {
   "cell_type": "markdown",
   "metadata": {},
   "source": [
    "## Now Lets use this model to predict good and bad restaurants on the entire dataset(Labelled and Unlabelled)"
   ]
  },
  {
   "cell_type": "code",
   "execution_count": 33,
   "metadata": {},
   "outputs": [
    {
     "data": {
      "text/plain": [
       "array([0, 0, 0, ..., 1, 0, 1])"
      ]
     },
     "execution_count": 33,
     "metadata": {},
     "output_type": "execute_result"
    }
   ],
   "source": [
    "entire_data = pd.read_excel(\"Restaurant_final.xlsx\")[['cost', 'latitude', 'longitude', 'ratings', 'votes']]\n",
    "predictions = LogReg.predict(entire_data)\n",
    "predictions"
   ]
  },
  {
   "cell_type": "code",
   "execution_count": 35,
   "metadata": {},
   "outputs": [
    {
     "data": {
      "text/html": [
       "<div>\n",
       "<style>\n",
       "    .dataframe thead tr:only-child th {\n",
       "        text-align: right;\n",
       "    }\n",
       "\n",
       "    .dataframe thead th {\n",
       "        text-align: left;\n",
       "    }\n",
       "\n",
       "    .dataframe tbody tr th {\n",
       "        vertical-align: top;\n",
       "    }\n",
       "</style>\n",
       "<table border=\"1\" class=\"dataframe\">\n",
       "  <thead>\n",
       "    <tr style=\"text-align: right;\">\n",
       "      <th></th>\n",
       "      <th>cost</th>\n",
       "      <th>latitude</th>\n",
       "      <th>longitude</th>\n",
       "      <th>ratings</th>\n",
       "      <th>votes</th>\n",
       "      <th>pred_pref</th>\n",
       "    </tr>\n",
       "  </thead>\n",
       "  <tbody>\n",
       "    <tr>\n",
       "      <th>0</th>\n",
       "      <td>700</td>\n",
       "      <td>22.502441</td>\n",
       "      <td>88.357122</td>\n",
       "      <td>3.5</td>\n",
       "      <td>63</td>\n",
       "      <td>0</td>\n",
       "    </tr>\n",
       "    <tr>\n",
       "      <th>1</th>\n",
       "      <td>250</td>\n",
       "      <td>22.562931</td>\n",
       "      <td>88.351263</td>\n",
       "      <td>3.4</td>\n",
       "      <td>144</td>\n",
       "      <td>0</td>\n",
       "    </tr>\n",
       "    <tr>\n",
       "      <th>2</th>\n",
       "      <td>650</td>\n",
       "      <td>22.586452</td>\n",
       "      <td>88.367751</td>\n",
       "      <td>3.5</td>\n",
       "      <td>79</td>\n",
       "      <td>0</td>\n",
       "    </tr>\n",
       "    <tr>\n",
       "      <th>3</th>\n",
       "      <td>1200</td>\n",
       "      <td>22.526294</td>\n",
       "      <td>88.364614</td>\n",
       "      <td>3.4</td>\n",
       "      <td>2231</td>\n",
       "      <td>1</td>\n",
       "    </tr>\n",
       "    <tr>\n",
       "      <th>4</th>\n",
       "      <td>600</td>\n",
       "      <td>22.470767</td>\n",
       "      <td>88.388901</td>\n",
       "      <td>2.5</td>\n",
       "      <td>39</td>\n",
       "      <td>0</td>\n",
       "    </tr>\n",
       "  </tbody>\n",
       "</table>\n",
       "</div>"
      ],
      "text/plain": [
       "   cost   latitude  longitude  ratings  votes  pred_pref\n",
       "0   700  22.502441  88.357122      3.5     63          0\n",
       "1   250  22.562931  88.351263      3.4    144          0\n",
       "2   650  22.586452  88.367751      3.5     79          0\n",
       "3  1200  22.526294  88.364614      3.4   2231          1\n",
       "4   600  22.470767  88.388901      2.5     39          0"
      ]
     },
     "execution_count": 35,
     "metadata": {},
     "output_type": "execute_result"
    }
   ],
   "source": [
    "entire_data['pred_pref'] = predictions\n",
    "entire_data.head(5)"
   ]
  },
  {
   "cell_type": "code",
   "execution_count": 37,
   "metadata": {},
   "outputs": [],
   "source": [
    "entire_data.to_csv('Restaurant_Prediction.csv', index=False)"
   ]
  },
  {
   "cell_type": "markdown",
   "metadata": {},
   "source": [
    "## KNN ( K Nearest Neighbours )"
   ]
  },
  {
   "cell_type": "code",
   "execution_count": null,
   "metadata": {
    "collapsed": true
   },
   "outputs": [],
   "source": [
    "import numpy as np\n",
    "from sklearn.cross_validation import train_test_split\n",
    "\n",
    "# create design matrix X and target vector y\n",
    "X = np.array( t_s.ix[:,(1,3,4,7,9)]) \t# end index is exclusive\n",
    "y = np.array(t_s.ix[:,(6)]) \t# another way of indexing a pandas df\n",
    "\n",
    "# split into train and test\n",
    "X_train, X_test, y_train, y_test = train_test_split(X, y, test_size=0.33, random_state=42)"
   ]
  },
  {
   "cell_type": "code",
   "execution_count": null,
   "metadata": {
    "collapsed": true
   },
   "outputs": [],
   "source": [
    "# loading library\n",
    "from sklearn.neighbors import KNeighborsClassifier\n",
    "from sklearn.metrics import accuracy_score\n",
    "# instantiate learning model (k = 3)\n",
    "knn = KNeighborsClassifier(n_neighbors=3)\n",
    "\n",
    "# fitting the model\n",
    "knn.fit(X_train, y_train)\n",
    "\n",
    "# predict the response\n",
    "pred = knn.predict(X_test)\n",
    "\n",
    "# evaluate accuracy\n",
    "print accuracy_score(y_test, pred)"
   ]
  },
  {
   "cell_type": "code",
   "execution_count": null,
   "metadata": {
    "collapsed": true
   },
   "outputs": [],
   "source": [
    "X = np.array( t.ix[:,(1,3,4,7,9)])\n",
    "y_KNN = knn.predict(X)"
   ]
  },
  {
   "cell_type": "code",
   "execution_count": null,
   "metadata": {
    "collapsed": true
   },
   "outputs": [],
   "source": [
    "l=[]\n",
    "for i in range(len(y_KNN)):\n",
    "    l+=[{'KNN_pred':y_KNN[i]}]"
   ]
  },
  {
   "cell_type": "code",
   "execution_count": null,
   "metadata": {
    "collapsed": true
   },
   "outputs": [],
   "source": [
    "Knn_p=pd.DataFrame(l)\n",
    "df=pd.concat([t,R_p, Knn_p], axis=1)"
   ]
  },
  {
   "cell_type": "code",
   "execution_count": null,
   "metadata": {
    "collapsed": true
   },
   "outputs": [],
   "source": [
    "writer=pd.ExcelWriter('E:\\\\Anaconda2\\\\Date with data\\\\Restaurant_Prediction1.xlsx')\n",
    "df.to_excel(writer,'Sample')\n",
    "writer.save()"
   ]
  },
  {
   "cell_type": "markdown",
   "metadata": {},
   "source": [
    "## Finding your favorite restaurant "
   ]
  },
  {
   "cell_type": "code",
   "execution_count": null,
   "metadata": {
    "collapsed": true
   },
   "outputs": [],
   "source": [
    "Boy_cuisine=['Juices', 'South Indian', 'Street Food']\n",
    "Girl_cuisine=['Chinese', 'Mughlai', 'North Indian']\n",
    "Boy_c=np.array(Boy_cuisine)\n",
    "Girl_c=np.array(Girl_cuisine)"
   ]
  },
  {
   "cell_type": "code",
   "execution_count": null,
   "metadata": {
    "collapsed": true,
    "scrolled": true
   },
   "outputs": [],
   "source": [
    "Cuisine_pref=np.append(Boy_c,Girl_c)\n",
    "Cuisine_pref=np.unique(Cuisine_pref)\n",
    "Cuisine_pref=np.sort(Cuisine_pref)\n",
    "Boy_lat=22.57940\n",
    "Boy_lon=88.35409\n",
    "Girl_lat=22.57940\n",
    "Girl_lon=88.35409"
   ]
  },
  {
   "cell_type": "code",
   "execution_count": null,
   "metadata": {
    "collapsed": true,
    "scrolled": false
   },
   "outputs": [],
   "source": [
    "df=pd.read_excel('E:\\\\Anaconda2\\\\Date with data\\\\Restaurant_Prediction.xlsx')\n",
    "len(df)"
   ]
  },
  {
   "cell_type": "code",
   "execution_count": null,
   "metadata": {
    "collapsed": true
   },
   "outputs": [],
   "source": [
    "list_cost=[]\n",
    "for i in range(len(df)):\n",
    "    Res_lat=float(df.iloc[i]['latitude'])\n",
    "    Res_lon=float(df.iloc[i]['longitude'])\n",
    "    Boy_dis=math.sqrt((Boy_lat-Res_lat)*(Boy_lat-Res_lat)+(Boy_lon-Res_lon)*(Boy_lon-Res_lon))\n",
    "    Girl_dis=math.sqrt((Girl_lat-Res_lat)*(Girl_lat-Res_lat)+(Girl_lon-Res_lon)*(Girl_lon-Res_lon))\n",
    "    distance=Boy_dis+Girl_dis\n",
    "    if(df.iloc[i]['Regression_pred']==0):\n",
    "        list_cost+=[{'Food_match':0,'Euclidean_dist':distance}]\n",
    "        continue\n",
    "    cuisine=str(df.iloc[i]['cuisine'])\n",
    "    cuisine=cuisine.strip('[')\n",
    "    cuisine=cuisine.strip(']')\n",
    "    cuisine=cuisine.strip(\"'\")\n",
    "    Cuisine_restaurant=cuisine.split(\"' '\")\n",
    "    l=0\n",
    "    k=0\n",
    "    count=0\n",
    "    while( l <len(Cuisine_pref) and k <len(Cuisine_restaurant)):\n",
    "        if(Cuisine_restaurant[k]==Cuisine_pref[l]):\n",
    "            count+=1\n",
    "            l+=1\n",
    "            k+=1\n",
    "        elif(Cuisine_restaurant[k]>Cuisine_pref[l]):\n",
    "            l+=1\n",
    "        elif(Cuisine_restaurant[k]<Cuisine_pref[l]):\n",
    "            k+=1\n",
    "    list_cost+=[{'Food_match':count,'Euclidean_dist':distance}]\n",
    "      "
   ]
  },
  {
   "cell_type": "markdown",
   "metadata": {},
   "source": []
  },
  {
   "cell_type": "code",
   "execution_count": null,
   "metadata": {
    "collapsed": true
   },
   "outputs": [],
   "source": []
  }
 ],
 "metadata": {
  "kernelspec": {
   "display_name": "Python 2",
   "language": "python",
   "name": "python2"
  },
  "language_info": {
   "codemirror_mode": {
    "name": "ipython",
    "version": 3
   },
   "file_extension": ".py",
   "mimetype": "text/x-python",
   "name": "python",
   "nbconvert_exporter": "python",
   "pygments_lexer": "ipython3",
   "version": "3.5.2"
  }
 },
 "nbformat": 4,
 "nbformat_minor": 2
}
